{
 "cells": [
  {
   "cell_type": "markdown",
   "metadata": {},
   "source": [
    "## 2022년 상반기(7~9월) 언론사별 동영상/비동영상 기사 출고량 비교분석\n",
    "\n",
    " 방송매체: 채널A JTBC TV조선 MBN KBS MBC SBS YTN 연합뉴스TV\n",
    "\n",
    "방송사 기사 수를 영상 기사와 영상이 포함되지 않은 기사로 구분해서 카운트"
   ]
  },
  {
   "cell_type": "code",
   "execution_count": 1,
   "metadata": {},
   "outputs": [],
   "source": [
    "#라이브러리\n",
    "\n",
    "from bs4 import BeautifulSoup as bs\n",
    "import pandas as pd\n",
    "import requests\n",
    "from datetime import date, timedelta, datetime\n",
    "\n",
    "#headers\n",
    "headers = {'User-Agent': 'Mozilla/5.0 (Windows NT 10.0; Win64; x64) AppleWebKit/537.36 (KHTML, like Gecko) Chrome/105.0.0.0 Safari/537.36'}"
   ]
  },
  {
   "cell_type": "code",
   "execution_count": 2,
   "metadata": {},
   "outputs": [],
   "source": [
    "#날짜 함수\n",
    "def daterange(start_date, end_date):\n",
    "    for n in range(int((end_date - start_date).days)): #해당 기간에 존재할 때 .days로 날짜 계산\n",
    "        yield start_date + timedelta(n)\n",
    "\n",
    "#https://wikidocs.net/104836\n",
    "#https://sdr1982.tistory.com/m/329\n",
    "\n",
    "start_date = date(2022,10,1)\n",
    "end_date = date(2022,11,1) #하루 길게 작성 ex. 8월 31일까지 알고 싶으면 2022,9,1로 입력"
   ]
  },
  {
   "cell_type": "code",
   "execution_count": 3,
   "metadata": {},
   "outputs": [],
   "source": [
    "#기사별 페이지 \n",
    "def page(url):\n",
    "    req = requests.get(url, headers = headers)\n",
    "    html = req.text\n",
    "    soup = bs(html, 'html.parser')\n",
    "    search_result = soup.select('.paging')\n",
    "    pages = []\n",
    "    for li in search_result:\n",
    "        pages.append(li.text)\n",
    "    return int(pages[0].split('\\n')[-2])"
   ]
  },
  {
   "cell_type": "markdown",
   "metadata": {},
   "source": [
    "#요약형 기사로 크롤링 필요\n",
    "1) 방송매체\n",
    "\n",
    "채널A: 449\n",
    "\n",
    "JTBC: 437\n",
    "\n",
    "TV조선: 448\n",
    "\n",
    "MBN: 057\n",
    "\n",
    "KBS: 056\n",
    "\n",
    "MBC: 214\n",
    "\n",
    "SBS: 055\n",
    "\n",
    "YTN: 052\n",
    "\n",
    "연합뉴스TV: 422\n"
   ]
  },
  {
   "cell_type": "code",
   "execution_count": 4,
   "metadata": {},
   "outputs": [],
   "source": [
    "#채널A - 449\n",
    "\n",
    "channel_A = []\n",
    "for single_date in daterange(start_date, end_date):\n",
    "    day = single_date.strftime(\"%Y%m%d\")\n",
    "    month = single_date.strftime('%m')\n",
    "    url = f'https://news.naver.com/main/list.naver?mode=LPOD&mid=sec&oid=449&date={day}'\n",
    "    for i in range(1, page(url) + 1):\n",
    "        req = requests.get(url + f'&page={i}', headers = headers) #날짜에 따라 변하는 페이지 반영\n",
    "        html = req.text\n",
    "        soup = bs(html, 'html.parser')\n",
    "        vod = soup.select('ul.type06 > li > dl > dt.photo > a > strong')\n",
    "        vod_head = soup.select('ul.type06_headline > li > dl > dt.photo > a > strong')\n",
    "        \n",
    "        for i in vod:\n",
    "            channel_A.append([str(month), i.text.strip()])\n",
    "            #print([str(month), i.text.strip()])\n",
    "\n",
    "        for k in vod_head:\n",
    "            channel_A.append([str(month), k.text.strip()])\n",
    "            #print([str(month), k.text.strip()])\n"
   ]
  },
  {
   "cell_type": "code",
   "execution_count": 5,
   "metadata": {},
   "outputs": [
    {
     "data": {
      "text/html": [
       "<div>\n",
       "<style scoped>\n",
       "    .dataframe tbody tr th:only-of-type {\n",
       "        vertical-align: middle;\n",
       "    }\n",
       "\n",
       "    .dataframe tbody tr th {\n",
       "        vertical-align: top;\n",
       "    }\n",
       "\n",
       "    .dataframe thead th {\n",
       "        text-align: right;\n",
       "    }\n",
       "</style>\n",
       "<table border=\"1\" class=\"dataframe\">\n",
       "  <thead>\n",
       "    <tr style=\"text-align: right;\">\n",
       "      <th></th>\n",
       "      <th>vod</th>\n",
       "    </tr>\n",
       "    <tr>\n",
       "      <th>month</th>\n",
       "      <th></th>\n",
       "    </tr>\n",
       "  </thead>\n",
       "  <tbody>\n",
       "    <tr>\n",
       "      <th>10</th>\n",
       "      <td>1267</td>\n",
       "    </tr>\n",
       "  </tbody>\n",
       "</table>\n",
       "</div>"
      ],
      "text/plain": [
       "        vod\n",
       "month      \n",
       "10     1267"
      ]
     },
     "execution_count": 5,
     "metadata": {},
     "output_type": "execute_result"
    }
   ],
   "source": [
    "#데이터프레임으로 정리\n",
    "channelA_df = pd.DataFrame(channel_A, columns = ['month', 'vod'])\n",
    "\n",
    "#월별 분류\n",
    "channelA_df.groupby('month').count()\n",
    "\n",
    "#엑셀로 직접 보는 방법: channelA_df.to_excel('8월 보도량.xlsx',encoding='utf-8-sig')\n"
   ]
  },
  {
   "cell_type": "code",
   "execution_count": 6,
   "metadata": {},
   "outputs": [],
   "source": [
    "#JTBC - 437\n",
    "\n",
    "jtbc = []\n",
    "for single_date in daterange(start_date, end_date):\n",
    "    day = single_date.strftime(\"%Y%m%d\")\n",
    "    month = single_date.strftime('%m')\n",
    "    url = f'https://news.naver.com/main/list.naver?mode=LPOD&mid=sec&oid=437&date={day}'\n",
    "    for i in range(1, page(url + '&page=51') + 1):\n",
    "        req = requests.get(url + f'&page={i}', headers = headers) #날짜에 따라 변하는 페이지 반영\n",
    "        html = req.text\n",
    "        soup = bs(html, 'html.parser')\n",
    "        vod = soup.select('ul.type06 > li > dl > dt.photo > a > strong')\n",
    "        vod_head = soup.select('ul.type06_headline > li > dl > dt.photo > a > strong')\n",
    "        \n",
    "        for i in vod:\n",
    "            jtbc.append([str(month), i.text.strip()])\n",
    "            #print([str(month), i.text.strip()])\n",
    "\n",
    "        for k in vod_head:\n",
    "            jtbc.append([str(month), k.text.strip()])\n",
    "            #print([str(month), k.text.strip()])"
   ]
  },
  {
   "cell_type": "code",
   "execution_count": 7,
   "metadata": {},
   "outputs": [
    {
     "data": {
      "text/html": [
       "<div>\n",
       "<style scoped>\n",
       "    .dataframe tbody tr th:only-of-type {\n",
       "        vertical-align: middle;\n",
       "    }\n",
       "\n",
       "    .dataframe tbody tr th {\n",
       "        vertical-align: top;\n",
       "    }\n",
       "\n",
       "    .dataframe thead th {\n",
       "        text-align: right;\n",
       "    }\n",
       "</style>\n",
       "<table border=\"1\" class=\"dataframe\">\n",
       "  <thead>\n",
       "    <tr style=\"text-align: right;\">\n",
       "      <th></th>\n",
       "      <th>vod</th>\n",
       "    </tr>\n",
       "    <tr>\n",
       "      <th>month</th>\n",
       "      <th></th>\n",
       "    </tr>\n",
       "  </thead>\n",
       "  <tbody>\n",
       "    <tr>\n",
       "      <th>10</th>\n",
       "      <td>1423</td>\n",
       "    </tr>\n",
       "  </tbody>\n",
       "</table>\n",
       "</div>"
      ],
      "text/plain": [
       "        vod\n",
       "month      \n",
       "10     1423"
      ]
     },
     "execution_count": 7,
     "metadata": {},
     "output_type": "execute_result"
    }
   ],
   "source": [
    "#데이터프레임으로 정리\n",
    "jtbc_df = pd.DataFrame(jtbc, columns = ['month', 'vod'])\n",
    "\n",
    "#월별 분류\n",
    "jtbc_df.groupby('month').count()\n",
    "\n",
    "#jtbc_df.to_excel('8월 보도량(jtbc).xlsx',encoding='utf-8-sig')"
   ]
  },
  {
   "cell_type": "code",
   "execution_count": 8,
   "metadata": {},
   "outputs": [],
   "source": [
    "#TV 조선 - 448\n",
    "tv_chosun = []\n",
    "\n",
    "for single_date in daterange(start_date, end_date):\n",
    "    day = single_date.strftime(\"%Y%m%d\")\n",
    "    month = single_date.strftime('%m')\n",
    "    url = f'https://news.naver.com/main/list.naver?mode=LPOD&mid=sec&oid=448&date={day}'\n",
    "    for i in range(1, page(url+'&page=51') + 1):\n",
    "        req = requests.get(url + f'&page={i}', headers = headers) #날짜에 따라 변하는 페이지 반영\n",
    "        html = req.text\n",
    "        soup = bs(html, 'html.parser')\n",
    "        vod = soup.select('ul.type06 > li > dl > dt.photo > a > strong')\n",
    "        vod_head = soup.select('ul.type06_headline > li > dl > dt.photo > a > strong')\n",
    "        \n",
    "        for i in vod:\n",
    "            tv_chosun.append([str(month), i.text.strip()])\n",
    "            #print([str(month), i.text.strip()])\n",
    "\n",
    "        for k in vod_head:\n",
    "            tv_chosun.append([str(month), k.text.strip()])\n",
    "            #print([str(month), k.text.strip()])"
   ]
  },
  {
   "cell_type": "code",
   "execution_count": 9,
   "metadata": {},
   "outputs": [
    {
     "data": {
      "text/html": [
       "<div>\n",
       "<style scoped>\n",
       "    .dataframe tbody tr th:only-of-type {\n",
       "        vertical-align: middle;\n",
       "    }\n",
       "\n",
       "    .dataframe tbody tr th {\n",
       "        vertical-align: top;\n",
       "    }\n",
       "\n",
       "    .dataframe thead th {\n",
       "        text-align: right;\n",
       "    }\n",
       "</style>\n",
       "<table border=\"1\" class=\"dataframe\">\n",
       "  <thead>\n",
       "    <tr style=\"text-align: right;\">\n",
       "      <th></th>\n",
       "      <th>vod</th>\n",
       "    </tr>\n",
       "    <tr>\n",
       "      <th>month</th>\n",
       "      <th></th>\n",
       "    </tr>\n",
       "  </thead>\n",
       "  <tbody>\n",
       "    <tr>\n",
       "      <th>10</th>\n",
       "      <td>1498</td>\n",
       "    </tr>\n",
       "  </tbody>\n",
       "</table>\n",
       "</div>"
      ],
      "text/plain": [
       "        vod\n",
       "month      \n",
       "10     1498"
      ]
     },
     "execution_count": 9,
     "metadata": {},
     "output_type": "execute_result"
    }
   ],
   "source": [
    "#데이터프레임으로 정리\n",
    "tv_chosun_df = pd.DataFrame(tv_chosun, columns = ['month', 'vod'])\n",
    "\n",
    "#월별 분류\n",
    "tv_chosun_df.groupby('month').count()\n",
    "\n",
    "#tv_chosun_df.to_excel('8월 보도량2(TV조선).xlsx',encoding='utf-8-sig')"
   ]
  },
  {
   "cell_type": "code",
   "execution_count": 10,
   "metadata": {},
   "outputs": [],
   "source": [
    "#MBN - 057\n",
    "\n",
    "mbn = []\n",
    "for single_date in daterange(start_date, end_date):\n",
    "    day = single_date.strftime(\"%Y%m%d\")\n",
    "    month = single_date.strftime('%m')\n",
    "    url = f'https://news.naver.com/main/list.naver?mode=LPOD&mid=sec&oid=057&date={day}'\n",
    "    for i in range(1, page(url+'&page=51') + 1):\n",
    "        req = requests.get(url + f'&page={i}', headers = headers) #날짜에 따라 변하는 페이지 반영\n",
    "        html = req.text\n",
    "        soup = bs(html, 'html.parser')\n",
    "        vod = soup.select('ul.type06 > li > dl > dt.photo > a > strong')\n",
    "        vod_head = soup.select('ul.type06_headline > li > dl > dt.photo > a > strong')\n",
    "        \n",
    "        for i in vod:\n",
    "            mbn.append([str(month), i.text.strip()])\n",
    "            #print([str(month), i.text.strip()])\n",
    "\n",
    "        for k in vod_head:\n",
    "            mbn.append([str(month), k.text.strip()])\n",
    "            #print([str(month), k.text.strip()])"
   ]
  },
  {
   "cell_type": "code",
   "execution_count": 11,
   "metadata": {},
   "outputs": [
    {
     "data": {
      "text/html": [
       "<div>\n",
       "<style scoped>\n",
       "    .dataframe tbody tr th:only-of-type {\n",
       "        vertical-align: middle;\n",
       "    }\n",
       "\n",
       "    .dataframe tbody tr th {\n",
       "        vertical-align: top;\n",
       "    }\n",
       "\n",
       "    .dataframe thead th {\n",
       "        text-align: right;\n",
       "    }\n",
       "</style>\n",
       "<table border=\"1\" class=\"dataframe\">\n",
       "  <thead>\n",
       "    <tr style=\"text-align: right;\">\n",
       "      <th></th>\n",
       "      <th>vod</th>\n",
       "    </tr>\n",
       "    <tr>\n",
       "      <th>month</th>\n",
       "      <th></th>\n",
       "    </tr>\n",
       "  </thead>\n",
       "  <tbody>\n",
       "    <tr>\n",
       "      <th>10</th>\n",
       "      <td>2043</td>\n",
       "    </tr>\n",
       "  </tbody>\n",
       "</table>\n",
       "</div>"
      ],
      "text/plain": [
       "        vod\n",
       "month      \n",
       "10     2043"
      ]
     },
     "execution_count": 11,
     "metadata": {},
     "output_type": "execute_result"
    }
   ],
   "source": [
    "#데이터프레임으로 정리\n",
    "mbn_df = pd.DataFrame(mbn, columns = ['month', 'vod'])\n",
    "\n",
    "#월별 분류\n",
    "mbn_df.groupby('month').count()"
   ]
  },
  {
   "cell_type": "code",
   "execution_count": 19,
   "metadata": {},
   "outputs": [],
   "source": [
    "#KBS - 056\n",
    "kbs = []\n",
    "for single_date in daterange(start_date, end_date):\n",
    "    day = single_date.strftime(\"%Y%m%d\")\n",
    "    month = single_date.strftime('%m')\n",
    "    url = f'https://news.naver.com/main/list.naver?mode=LPOD&mid=sec&oid=056&date={day}'\n",
    "    for i in range(1, page(url+'&page=51') + 1):\n",
    "        req = requests.get(url + f'&page={i}', headers = headers) #날짜에 따라 변하는 페이지 반영\n",
    "        html = req.text\n",
    "        soup = bs(html, 'html.parser')\n",
    "        vod = soup.select('ul.type06 > li > dl > dt.photo > a > strong')\n",
    "        vod_head = soup.select('ul.type06_headline > li > dl > dt.photo > a > strong')\n",
    "        \n",
    "        for i in vod:\n",
    "            kbs.append([str(month), i.text.strip()])\n",
    "            #print([str(month), i.text.strip()])\n",
    "\n",
    "        for k in vod_head:\n",
    "            kbs.append([str(month), k.text.strip()])\n",
    "            #print([str(month), k.text.strip()])"
   ]
  },
  {
   "cell_type": "code",
   "execution_count": 20,
   "metadata": {},
   "outputs": [
    {
     "data": {
      "text/html": [
       "<div>\n",
       "<style scoped>\n",
       "    .dataframe tbody tr th:only-of-type {\n",
       "        vertical-align: middle;\n",
       "    }\n",
       "\n",
       "    .dataframe tbody tr th {\n",
       "        vertical-align: top;\n",
       "    }\n",
       "\n",
       "    .dataframe thead th {\n",
       "        text-align: right;\n",
       "    }\n",
       "</style>\n",
       "<table border=\"1\" class=\"dataframe\">\n",
       "  <thead>\n",
       "    <tr style=\"text-align: right;\">\n",
       "      <th></th>\n",
       "      <th>vod</th>\n",
       "    </tr>\n",
       "    <tr>\n",
       "      <th>month</th>\n",
       "      <th></th>\n",
       "    </tr>\n",
       "  </thead>\n",
       "  <tbody>\n",
       "    <tr>\n",
       "      <th>07</th>\n",
       "      <td>13174</td>\n",
       "    </tr>\n",
       "    <tr>\n",
       "      <th>08</th>\n",
       "      <td>13864</td>\n",
       "    </tr>\n",
       "    <tr>\n",
       "      <th>09</th>\n",
       "      <td>12453</td>\n",
       "    </tr>\n",
       "  </tbody>\n",
       "</table>\n",
       "</div>"
      ],
      "text/plain": [
       "         vod\n",
       "month       \n",
       "07     13174\n",
       "08     13864\n",
       "09     12453"
      ]
     },
     "execution_count": 20,
     "metadata": {},
     "output_type": "execute_result"
    }
   ],
   "source": [
    "#데이터프레임으로 정리\n",
    "kbs_df = pd.DataFrame(kbs, columns = ['month', 'vod'])\n",
    "\n",
    "#월별 분류\n",
    "kbs_df.groupby('month').count()"
   ]
  },
  {
   "cell_type": "code",
   "execution_count": 21,
   "metadata": {},
   "outputs": [],
   "source": [
    "#SBS - 055\n",
    "sbs = []\n",
    "for single_date in daterange(start_date, end_date):\n",
    "    day = single_date.strftime(\"%Y%m%d\")\n",
    "    month = single_date.strftime('%m')\n",
    "    url = f'https://news.naver.com/main/list.naver?mode=LPOD&mid=sec&oid=055&date={day}'\n",
    "    for i in range(1, page(url + '&page=51') + 1):\n",
    "        req = requests.get(url + f'&page={i}', headers = headers) #날짜에 따라 변하는 페이지 반영\n",
    "        html = req.text\n",
    "        soup = bs(html, 'html.parser')\n",
    "        vod = soup.select('ul.type06 > li > dl > dt.photo > a > strong')\n",
    "        vod_head = soup.select('ul.type06_headline > li > dl > dt.photo > a > strong')\n",
    "        \n",
    "        for i in vod:\n",
    "            sbs.append([str(month), i.text.strip()])\n",
    "            #print([str(month), i.text.strip()])\n",
    "\n",
    "        for k in vod_head:\n",
    "            sbs.append([str(month), k.text.strip()])\n",
    "            #print([str(month), k.text.strip()])"
   ]
  },
  {
   "cell_type": "code",
   "execution_count": 22,
   "metadata": {},
   "outputs": [
    {
     "data": {
      "text/html": [
       "<div>\n",
       "<style scoped>\n",
       "    .dataframe tbody tr th:only-of-type {\n",
       "        vertical-align: middle;\n",
       "    }\n",
       "\n",
       "    .dataframe tbody tr th {\n",
       "        vertical-align: top;\n",
       "    }\n",
       "\n",
       "    .dataframe thead th {\n",
       "        text-align: right;\n",
       "    }\n",
       "</style>\n",
       "<table border=\"1\" class=\"dataframe\">\n",
       "  <thead>\n",
       "    <tr style=\"text-align: right;\">\n",
       "      <th></th>\n",
       "      <th>vod</th>\n",
       "    </tr>\n",
       "    <tr>\n",
       "      <th>month</th>\n",
       "      <th></th>\n",
       "    </tr>\n",
       "  </thead>\n",
       "  <tbody>\n",
       "    <tr>\n",
       "      <th>07</th>\n",
       "      <td>2871</td>\n",
       "    </tr>\n",
       "    <tr>\n",
       "      <th>08</th>\n",
       "      <td>3074</td>\n",
       "    </tr>\n",
       "    <tr>\n",
       "      <th>09</th>\n",
       "      <td>2888</td>\n",
       "    </tr>\n",
       "  </tbody>\n",
       "</table>\n",
       "</div>"
      ],
      "text/plain": [
       "        vod\n",
       "month      \n",
       "07     2871\n",
       "08     3074\n",
       "09     2888"
      ]
     },
     "execution_count": 22,
     "metadata": {},
     "output_type": "execute_result"
    }
   ],
   "source": [
    "#데이터프레임으로 정리\n",
    "sbs_df = pd.DataFrame(sbs, columns = ['month', 'vod'])\n",
    "\n",
    "#월별 분류\n",
    "sbs_df.groupby('month').count()"
   ]
  },
  {
   "cell_type": "code",
   "execution_count": 4,
   "metadata": {},
   "outputs": [],
   "source": [
    "#YTN - 052\n",
    "ytn = []\n",
    "for single_date in daterange(start_date, end_date):\n",
    "    day = single_date.strftime(\"%Y%m%d\")\n",
    "    month = single_date.strftime('%m')\n",
    "    url = f'https://news.naver.com/main/list.naver?mode=LPOD&mid=sec&oid=052&date={day}'\n",
    "    for i in range(1, page(url + '&page=51') + 1):\n",
    "        req = requests.get(url + f'&page={i}', headers = headers) #날짜에 따라 변하는 페이지 반영\n",
    "        html = req.text\n",
    "        soup = bs(html, 'html.parser')\n",
    "        vod = soup.select('ul.type06 > li > dl > dt.photo > a > strong')\n",
    "        vod_head = soup.select('ul.type06_headline > li > dl > dt.photo > a > strong')\n",
    "        \n",
    "        for i in vod:\n",
    "            ytn.append([str(month), i.text.strip()])\n",
    "            #print([str(month), i.text.strip()])\n",
    "\n",
    "        for k in vod_head:\n",
    "            ytn.append([str(month), k.text.strip()])\n",
    "            #print([str(month), k.text.strip()])"
   ]
  },
  {
   "cell_type": "code",
   "execution_count": 5,
   "metadata": {},
   "outputs": [
    {
     "data": {
      "text/html": [
       "<div>\n",
       "<style scoped>\n",
       "    .dataframe tbody tr th:only-of-type {\n",
       "        vertical-align: middle;\n",
       "    }\n",
       "\n",
       "    .dataframe tbody tr th {\n",
       "        vertical-align: top;\n",
       "    }\n",
       "\n",
       "    .dataframe thead th {\n",
       "        text-align: right;\n",
       "    }\n",
       "</style>\n",
       "<table border=\"1\" class=\"dataframe\">\n",
       "  <thead>\n",
       "    <tr style=\"text-align: right;\">\n",
       "      <th></th>\n",
       "      <th>vod</th>\n",
       "    </tr>\n",
       "    <tr>\n",
       "      <th>month</th>\n",
       "      <th></th>\n",
       "    </tr>\n",
       "  </thead>\n",
       "  <tbody>\n",
       "    <tr>\n",
       "      <th>07</th>\n",
       "      <td>5833</td>\n",
       "    </tr>\n",
       "    <tr>\n",
       "      <th>08</th>\n",
       "      <td>5884</td>\n",
       "    </tr>\n",
       "    <tr>\n",
       "      <th>09</th>\n",
       "      <td>5551</td>\n",
       "    </tr>\n",
       "  </tbody>\n",
       "</table>\n",
       "</div>"
      ],
      "text/plain": [
       "        vod\n",
       "month      \n",
       "07     5833\n",
       "08     5884\n",
       "09     5551"
      ]
     },
     "execution_count": 5,
     "metadata": {},
     "output_type": "execute_result"
    }
   ],
   "source": [
    "#데이터프레임으로 정리\n",
    "ytn_df = pd.DataFrame(ytn, columns = ['month', 'vod'])\n",
    "\n",
    "#월별 분류\n",
    "ytn_df.groupby('month').count()"
   ]
  },
  {
   "cell_type": "code",
   "execution_count": 6,
   "metadata": {},
   "outputs": [],
   "source": [
    "#연합뉴스 - 422\n",
    "yna_tv = []\n",
    "for single_date in daterange(start_date, end_date):\n",
    "    day = single_date.strftime(\"%Y%m%d\")\n",
    "    month = single_date.strftime('%m')\n",
    "    url = f'https://news.naver.com/main/list.naver?mode=LPOD&mid=sec&oid=422&date={day}'\n",
    "    for i in range(1, page(url + '&page=51') + 1):\n",
    "        req = requests.get(url + f'&page={i}', headers = headers) #날짜에 따라 변하는 페이지 반영\n",
    "        html = req.text\n",
    "        soup = bs(html, 'html.parser')\n",
    "        vod = soup.select('ul.type06 > li > dl > dt.photo > a > strong')\n",
    "        vod_head = soup.select('ul.type06_headline > li > dl > dt.photo > a > strong')\n",
    "        \n",
    "        for i in vod:\n",
    "            yna_tv.append([str(month), i.text.strip()])\n",
    "            #print([str(month), i.text.strip()])\n",
    "\n",
    "        for k in vod_head:\n",
    "            yna_tv.append([str(month), k.text.strip()])\n",
    "            #print([str(month), k.text.strip()])"
   ]
  },
  {
   "cell_type": "code",
   "execution_count": 7,
   "metadata": {},
   "outputs": [
    {
     "data": {
      "text/html": [
       "<div>\n",
       "<style scoped>\n",
       "    .dataframe tbody tr th:only-of-type {\n",
       "        vertical-align: middle;\n",
       "    }\n",
       "\n",
       "    .dataframe tbody tr th {\n",
       "        vertical-align: top;\n",
       "    }\n",
       "\n",
       "    .dataframe thead th {\n",
       "        text-align: right;\n",
       "    }\n",
       "</style>\n",
       "<table border=\"1\" class=\"dataframe\">\n",
       "  <thead>\n",
       "    <tr style=\"text-align: right;\">\n",
       "      <th></th>\n",
       "      <th>vod</th>\n",
       "    </tr>\n",
       "    <tr>\n",
       "      <th>month</th>\n",
       "      <th></th>\n",
       "    </tr>\n",
       "  </thead>\n",
       "  <tbody>\n",
       "    <tr>\n",
       "      <th>07</th>\n",
       "      <td>4482</td>\n",
       "    </tr>\n",
       "    <tr>\n",
       "      <th>08</th>\n",
       "      <td>4635</td>\n",
       "    </tr>\n",
       "    <tr>\n",
       "      <th>09</th>\n",
       "      <td>4476</td>\n",
       "    </tr>\n",
       "  </tbody>\n",
       "</table>\n",
       "</div>"
      ],
      "text/plain": [
       "        vod\n",
       "month      \n",
       "07     4482\n",
       "08     4635\n",
       "09     4476"
      ]
     },
     "execution_count": 7,
     "metadata": {},
     "output_type": "execute_result"
    }
   ],
   "source": [
    "#데이터프레임으로 정리\n",
    "yna_tv_df = pd.DataFrame(yna_tv, columns = ['month', 'vod'])\n",
    "\n",
    "#월별 분류\n",
    "yna_tv_df.groupby('month').count()"
   ]
  }
 ],
 "metadata": {
  "kernelspec": {
   "display_name": "Python 3.10.6 64-bit",
   "language": "python",
   "name": "python3"
  },
  "language_info": {
   "codemirror_mode": {
    "name": "ipython",
    "version": 3
   },
   "file_extension": ".py",
   "mimetype": "text/x-python",
   "name": "python",
   "nbconvert_exporter": "python",
   "pygments_lexer": "ipython3",
   "version": "3.10.6"
  },
  "orig_nbformat": 4,
  "vscode": {
   "interpreter": {
    "hash": "fb4569285eef3a3450cb62085a5b1e0da4bce0af555edc33dcf29baf3acc1368"
   }
  }
 },
 "nbformat": 4,
 "nbformat_minor": 2
}
